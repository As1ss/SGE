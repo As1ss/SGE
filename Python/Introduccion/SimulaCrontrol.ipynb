{
 "cells": [
  {
   "cell_type": "code",
   "execution_count": 66,
   "metadata": {},
   "outputs": [
    {
     "name": "stdout",
     "output_type": "stream",
     "text": [
      "Pares: [2, 4, 6, 8]\n",
      "Impares: [1, 3, 5, 7]\n",
      "Primicos: [1, 2, 3, 5, 7]\n",
      "Payicos: [2, 4, 6, 8]\n"
     ]
    },
    {
     "ename": "TypeError",
     "evalue": "argument of type 'int' is not iterable",
     "output_type": "error",
     "traceback": [
      "\u001b[1;31m---------------------------------------------------------------------------\u001b[0m",
      "\u001b[1;31mTypeError\u001b[0m                                 Traceback (most recent call last)",
      "\u001b[1;32md:\\DAM2T\\Sistemas-de-gestion-empresarial\\Python\\Introduccion\\SimulaCrontrol.ipynb Cell 1\u001b[0m line \u001b[0;36m7\n\u001b[0;32m     <a href='vscode-notebook-cell:/d%3A/DAM2T/Sistemas-de-gestion-empresarial/Python/Introduccion/SimulaCrontrol.ipynb#W0sZmlsZQ%3D%3D?line=75'>76</a>\u001b[0m             lista_noFibonacci\u001b[39m.\u001b[39mappend(lista[i])\n\u001b[0;32m     <a href='vscode-notebook-cell:/d%3A/DAM2T/Sistemas-de-gestion-empresarial/Python/Introduccion/SimulaCrontrol.ipynb#W0sZmlsZQ%3D%3D?line=77'>78</a>\u001b[0m     \u001b[39mreturn\u001b[39;00m lista_fibonacci,lista_noFibonacci\n\u001b[1;32m---> <a href='vscode-notebook-cell:/d%3A/DAM2T/Sistemas-de-gestion-empresarial/Python/Introduccion/SimulaCrontrol.ipynb#W0sZmlsZQ%3D%3D?line=78'>79</a>\u001b[0m listaFib,listaNoFib \u001b[39m=\u001b[39m separarFibonacci(lista)\n\u001b[0;32m     <a href='vscode-notebook-cell:/d%3A/DAM2T/Sistemas-de-gestion-empresarial/Python/Introduccion/SimulaCrontrol.ipynb#W0sZmlsZQ%3D%3D?line=80'>81</a>\u001b[0m \u001b[39mprint\u001b[39m(\u001b[39m\"\u001b[39m\u001b[39mLISTA FIB: \u001b[39m\u001b[39m\"\u001b[39m\u001b[39m+\u001b[39m\u001b[39mstr\u001b[39m(listaFib))\n\u001b[0;32m     <a href='vscode-notebook-cell:/d%3A/DAM2T/Sistemas-de-gestion-empresarial/Python/Introduccion/SimulaCrontrol.ipynb#W0sZmlsZQ%3D%3D?line=81'>82</a>\u001b[0m \u001b[39mprint\u001b[39m(\u001b[39m\"\u001b[39m\u001b[39mLISFA NO FIB: \u001b[39m\u001b[39m\"\u001b[39m\u001b[39m+\u001b[39m\u001b[39mstr\u001b[39m(listaNoFib))\n",
      "\u001b[1;32md:\\DAM2T\\Sistemas-de-gestion-empresarial\\Python\\Introduccion\\SimulaCrontrol.ipynb Cell 1\u001b[0m line \u001b[0;36m7\n\u001b[0;32m     <a href='vscode-notebook-cell:/d%3A/DAM2T/Sistemas-de-gestion-empresarial/Python/Introduccion/SimulaCrontrol.ipynb#W0sZmlsZQ%3D%3D?line=72'>73</a>\u001b[0m     numFib \u001b[39m=\u001b[39m fibonacci(lista[i])\n\u001b[0;32m     <a href='vscode-notebook-cell:/d%3A/DAM2T/Sistemas-de-gestion-empresarial/Python/Introduccion/SimulaCrontrol.ipynb#W0sZmlsZQ%3D%3D?line=73'>74</a>\u001b[0m     lista_fibonacci\u001b[39m.\u001b[39mappend(numFib)\n\u001b[1;32m---> <a href='vscode-notebook-cell:/d%3A/DAM2T/Sistemas-de-gestion-empresarial/Python/Introduccion/SimulaCrontrol.ipynb#W0sZmlsZQ%3D%3D?line=74'>75</a>\u001b[0m     \u001b[39mif\u001b[39;00m (lista[i] \u001b[39min\u001b[39;49;00m lista_fibonacci[i]):\n\u001b[0;32m     <a href='vscode-notebook-cell:/d%3A/DAM2T/Sistemas-de-gestion-empresarial/Python/Introduccion/SimulaCrontrol.ipynb#W0sZmlsZQ%3D%3D?line=75'>76</a>\u001b[0m         lista_noFibonacci\u001b[39m.\u001b[39mappend(lista[i])\n\u001b[0;32m     <a href='vscode-notebook-cell:/d%3A/DAM2T/Sistemas-de-gestion-empresarial/Python/Introduccion/SimulaCrontrol.ipynb#W0sZmlsZQ%3D%3D?line=77'>78</a>\u001b[0m \u001b[39mreturn\u001b[39;00m lista_fibonacci,lista_noFibonacci\n",
      "\u001b[1;31mTypeError\u001b[0m: argument of type 'int' is not iterable"
     ]
    }
   ],
   "source": [
    "\"1) Separar números pares e impares: Dada una lista desordenada de números como [1, 2, 4, 3, 5, 8, 7, 6], crea una función que separe en dos listas ordenadas, una de números pares y otra de números impares.\"\n",
    "\n",
    "lista = [1, 2, 4, 3, 5, 8, 7, 6]\n",
    "\n",
    "def separarlistas(lista):\n",
    "    lista.sort()\n",
    "    lista_pares = []\n",
    "    lista_impares =[]\n",
    "    for i in lista:\n",
    "        if i % 2 == 0:\n",
    "            lista_pares.append(i)\n",
    "            \n",
    "        else:\n",
    "            lista_impares.append(i)\n",
    "          \n",
    "\n",
    "    return lista_pares,lista_impares\n",
    "\n",
    "pares,impares =separarlistas(lista)\n",
    "\n",
    "print(\"Pares: \"+str(pares))\n",
    "print(\"Impares: \"+str(impares))\n",
    "\n",
    "\n",
    "\n",
    "\"2) Separar números primos y compuestos: Dada una lista desordenada de números como [1, 2, 4, 3, 5, 8, 7, 6], crea una función que separe en dos listas ordenadas, una de números primos y otra de números compuestos.\"\n",
    "\n",
    "\n",
    "\n",
    "\n",
    "def separarPrimos(lista):\n",
    "    lista.sort()\n",
    "    lista_primos = []\n",
    "    lista_payicos = []\n",
    "    i = 2\n",
    "    for i in lista:\n",
    "        if i==2:\n",
    "                lista_primos.append(i)\n",
    "             \n",
    "        if i % 1==0 and i % i==0 and i%2!=0:\n",
    "            lista_primos.append(i)\n",
    "          \n",
    "        else:\n",
    "            lista_payicos.append(i)\n",
    "       \n",
    "    return lista_primos,lista_payicos\n",
    "\n",
    "\n",
    "    \n",
    "primicos,payicos =separarPrimos(lista)\n",
    "\n",
    "print(\"Primicos: \"+str(primicos))\n",
    "print(\"Payicos: \"+str(payicos))\n",
    "\n",
    "\"3) Separar números de la sucesión de Fibonacci y no: Dada una lista desordenada de números como [1, 2, 4, 3, 5, 8, 7, 6], crea una función que separe en dos listas ordenadas, una de números que estén en la sucesión de Fibonacci y otra en la que no.\"\n",
    "\n",
    "\n",
    "def fibonacci(i):\n",
    "            if i ==0:\n",
    "                 return 0\n",
    "            if i ==1:\n",
    "                 return 1\n",
    "            else:\n",
    "                 return fibonacci(i-1)+ fibonacci(i-2)\n",
    "            \n",
    "\n",
    "\n",
    "def separarFibonacci(lista):\n",
    "    lista.sort()\n",
    "    lista_fibonacci = []\n",
    "    lista_noFibonacci = []\n",
    "   \n",
    "    for num in lista:\n",
    "        if num == fibonacci(lista.index(num)):\n",
    "            lista_fibonacci.append(num)\n",
    "        else:\n",
    "            lista_noFibonacci.append(num)\n",
    "\n",
    "    return lista_fibonacci,lista_noFibonacci\n",
    "listaFib,listaNoFib = separarFibonacci(lista)\n",
    "\n",
    "print(\"LISTA FIB: \"+str(listaFib))\n",
    "print(\"LISFA NO FIB: \"+str(listaNoFib))\n",
    "\n",
    "\n",
    "        "
   ]
  },
  {
   "cell_type": "code",
   "execution_count": null,
   "metadata": {},
   "outputs": [],
   "source": []
  }
 ],
 "metadata": {
  "kernelspec": {
   "display_name": "Python 3",
   "language": "python",
   "name": "python3"
  },
  "language_info": {
   "codemirror_mode": {
    "name": "ipython",
    "version": 3
   },
   "file_extension": ".py",
   "mimetype": "text/x-python",
   "name": "python",
   "nbconvert_exporter": "python",
   "pygments_lexer": "ipython3",
   "version": "3.11.6"
  }
 },
 "nbformat": 4,
 "nbformat_minor": 2
}
